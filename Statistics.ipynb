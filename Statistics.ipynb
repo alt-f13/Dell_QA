{
 "cells": [
  {
   "cell_type": "code",
   "execution_count": 1,
   "id": "aec167b5-8b8c-47d9-931d-9f42f15d8380",
   "metadata": {},
   "outputs": [],
   "source": [
    "import pandas as pd"
   ]
  },
  {
   "cell_type": "code",
   "execution_count": null,
   "id": "bc20acb3-c310-4dea-9caf-84b748916516",
   "metadata": {},
   "outputs": [],
   "source": [
    "# reduced to 1000 rows, AND truncated questions, I want original"
   ]
  },
  {
   "cell_type": "code",
   "execution_count": 6,
   "id": "e9781eb7-ad0f-418a-9792-485fc2e72d8b",
   "metadata": {},
   "outputs": [],
   "source": [
    "df_q = pd.read_csv(\"q_pair_docid.csv\")\n",
    "df_d = pd.read_csv(\"d_pair_docid.csv\")"
   ]
  },
  {
   "cell_type": "code",
   "execution_count": 7,
   "id": "0ecb581a-873b-4537-b6d7-2e573b16343d",
   "metadata": {},
   "outputs": [
    {
     "name": "stdout",
     "output_type": "stream",
     "text": [
      "<class 'pandas.core.frame.DataFrame'>\n",
      "RangeIndex: 1901 entries, 0 to 1900\n",
      "Data columns (total 2 columns):\n",
      " #   Column               Non-Null Count  Dtype \n",
      "---  ------               --------------  ----- \n",
      " 0   question             1901 non-null   object\n",
      " 1   document_identifier  1901 non-null   object\n",
      "dtypes: object(2)\n",
      "memory usage: 29.8+ KB\n"
     ]
    }
   ],
   "source": [
    "df_q.info()"
   ]
  },
  {
   "cell_type": "code",
   "execution_count": 9,
   "id": "d8331950-2a3d-431e-900d-be9eaaba8d85",
   "metadata": {},
   "outputs": [
    {
     "data": {
      "text/html": [
       "<div>\n",
       "<style scoped>\n",
       "    .dataframe tbody tr th:only-of-type {\n",
       "        vertical-align: middle;\n",
       "    }\n",
       "\n",
       "    .dataframe tbody tr th {\n",
       "        vertical-align: top;\n",
       "    }\n",
       "\n",
       "    .dataframe thead th {\n",
       "        text-align: right;\n",
       "    }\n",
       "</style>\n",
       "<table border=\"1\" class=\"dataframe\">\n",
       "  <thead>\n",
       "    <tr style=\"text-align: right;\">\n",
       "      <th></th>\n",
       "      <th>question</th>\n",
       "      <th>document_identifier</th>\n",
       "    </tr>\n",
       "  </thead>\n",
       "  <tbody>\n",
       "    <tr>\n",
       "      <th>1896</th>\n",
       "      <td>trying to find out what CPU's actually work in...</td>\n",
       "      <td>doc_1896</td>\n",
       "    </tr>\n",
       "    <tr>\n",
       "      <th>1897</th>\n",
       "      <td>trying to upgrade the hdd and reinstall server...</td>\n",
       "      <td>doc_1897</td>\n",
       "    </tr>\n",
       "    <tr>\n",
       "      <th>1898</th>\n",
       "      <td>v2.20Only recently getting cmc redundancy loss...</td>\n",
       "      <td>doc_1898</td>\n",
       "    </tr>\n",
       "    <tr>\n",
       "      <th>1899</th>\n",
       "      <td>we had to move a server from one building to a...</td>\n",
       "      <td>doc_1899</td>\n",
       "    </tr>\n",
       "    <tr>\n",
       "      <th>1900</th>\n",
       "      <td>¡hola!Ayer estaba actualizando varios firmware...</td>\n",
       "      <td>doc_1900</td>\n",
       "    </tr>\n",
       "  </tbody>\n",
       "</table>\n",
       "</div>"
      ],
      "text/plain": [
       "                                               question document_identifier\n",
       "1896  trying to find out what CPU's actually work in...            doc_1896\n",
       "1897  trying to upgrade the hdd and reinstall server...            doc_1897\n",
       "1898  v2.20Only recently getting cmc redundancy loss...            doc_1898\n",
       "1899  we had to move a server from one building to a...            doc_1899\n",
       "1900  ¡hola!Ayer estaba actualizando varios firmware...            doc_1900"
      ]
     },
     "execution_count": 9,
     "metadata": {},
     "output_type": "execute_result"
    }
   ],
   "source": [
    "df_q.tail()"
   ]
  },
  {
   "cell_type": "code",
   "execution_count": 10,
   "id": "816c4ca2-8c1d-4cdb-af87-cb7a15b31e1c",
   "metadata": {},
   "outputs": [
    {
     "data": {
      "text/html": [
       "<div>\n",
       "<style scoped>\n",
       "    .dataframe tbody tr th:only-of-type {\n",
       "        vertical-align: middle;\n",
       "    }\n",
       "\n",
       "    .dataframe tbody tr th {\n",
       "        vertical-align: top;\n",
       "    }\n",
       "\n",
       "    .dataframe thead th {\n",
       "        text-align: right;\n",
       "    }\n",
       "</style>\n",
       "<table border=\"1\" class=\"dataframe\">\n",
       "  <thead>\n",
       "    <tr style=\"text-align: right;\">\n",
       "      <th></th>\n",
       "      <th>document_text</th>\n",
       "      <th>document_identifier</th>\n",
       "      <th>order</th>\n",
       "    </tr>\n",
       "  </thead>\n",
       "  <tbody>\n",
       "    <tr>\n",
       "      <th>0</th>\n",
       "      <td>With VRTX system in order for ESXi to recogniz...</td>\n",
       "      <td>doc_0</td>\n",
       "      <td>0</td>\n",
       "    </tr>\n",
       "    <tr>\n",
       "      <th>1</th>\n",
       "      <td>iDRAC will apply the firmware correctly to res...</td>\n",
       "      <td>doc_1</td>\n",
       "      <td>1</td>\n",
       "    </tr>\n",
       "    <tr>\n",
       "      <th>2</th>\n",
       "      <td>Hello.Unfortunately, we are not able to open t...</td>\n",
       "      <td>doc_2</td>\n",
       "      <td>2</td>\n",
       "    </tr>\n",
       "    <tr>\n",
       "      <th>3</th>\n",
       "      <td>Thank you for the service tag.You are correct,...</td>\n",
       "      <td>doc_3</td>\n",
       "      <td>3</td>\n",
       "    </tr>\n",
       "    <tr>\n",
       "      <th>4</th>\n",
       "      <td>Hello thisisalloneword, While you have access ...</td>\n",
       "      <td>doc_4</td>\n",
       "      <td>4</td>\n",
       "    </tr>\n",
       "  </tbody>\n",
       "</table>\n",
       "</div>"
      ],
      "text/plain": [
       "                                       document_text document_identifier  \\\n",
       "0  With VRTX system in order for ESXi to recogniz...               doc_0   \n",
       "1  iDRAC will apply the firmware correctly to res...               doc_1   \n",
       "2  Hello.Unfortunately, we are not able to open t...               doc_2   \n",
       "3  Thank you for the service tag.You are correct,...               doc_3   \n",
       "4  Hello thisisalloneword, While you have access ...               doc_4   \n",
       "\n",
       "   order  \n",
       "0      0  \n",
       "1      1  \n",
       "2      2  \n",
       "3      3  \n",
       "4      4  "
      ]
     },
     "execution_count": 10,
     "metadata": {},
     "output_type": "execute_result"
    }
   ],
   "source": [
    "df_d.head()"
   ]
  },
  {
   "cell_type": "code",
   "execution_count": null,
   "id": "cb6887a5-cd20-4a83-a500-3ac26ce98a4b",
   "metadata": {},
   "outputs": [],
   "source": []
  },
  {
   "cell_type": "code",
   "execution_count": 11,
   "id": "9f64ae07-cf45-4fdb-9ff0-ed1827e459de",
   "metadata": {},
   "outputs": [],
   "source": [
    "df_og = pd.read_csv(\"QA_large_cleaned.csv\")\n"
   ]
  },
  {
   "cell_type": "code",
   "execution_count": 12,
   "id": "ef93796a-eb46-4fea-a484-7578cb3795fd",
   "metadata": {},
   "outputs": [],
   "source": [
    "df_og = df_og.replace('\\n','', regex=True)\n",
    "df_og = df_og.replace('\\n\\n','', regex=True)"
   ]
  },
  {
   "cell_type": "code",
   "execution_count": 13,
   "id": "b89abec0-5da1-4b3c-8eec-70fc08f8694b",
   "metadata": {},
   "outputs": [],
   "source": [
    "# haystack format prep\n",
    "\n",
    "df_og = df_og.rename(columns={'Questions': 'question', 'Answers': 'document_text'})\n",
    "\n",
    "# Step 2: Organize 'question' rows in alphabetical order\n",
    "df_og = df_og.sort_values('question')\n",
    "\n",
    "# Step 3: Add an 'order' column with the row order\n",
    "df_og = df_og.reset_index(drop=True)  # Reset index first without keeping old\n",
    "df_og['order'] = df_og.index  # Add order column\n",
    "\n",
    "# Step 4: Add a 'document_identifier' column using 'order' numbers\n",
    "df_og['document_identifier'] = 'doc_' + df_og['order'].astype(str)"
   ]
  },
  {
   "cell_type": "code",
   "execution_count": 14,
   "id": "1e982b99-4230-421d-8aa8-d506e38ff71b",
   "metadata": {},
   "outputs": [],
   "source": [
    "\n",
    "# Assuming df_og is your original DataFrame\n",
    "\n",
    "# Take the first 1000 rows of the DataFrame\n",
    "#df_og = df_og.iloc[:1000]\n",
    "\n",
    "# Step 1: Remove specific substrings from all columns\n",
    "df_og_replaced = df_og.replace(['\\t', 'Solved!', 'Go to Solution.'], ['', '', ''], regex=True)\n",
    "\n",
    "# Step 2: Trim 'question' column if longer than 255 characters\n",
    "#df_og_trimmed = df_og_replaced.copy()\n",
    "#df_og_trimmed['question'] = df_og_replaced['question'].apply(lambda x: x[:255] if len(x) > 255 else x)\n",
    "\n",
    "# Step 3: Export 'question' and 'document_identifier' columns to q_pair_docid.csv\n",
    "df_q_export = df_og_replaced[['question', 'document_identifier']]\n",
    "df_q_export.to_csv('Questions_original.csv', index=False)\n",
    "\n",
    "# Step 4: Export 'document_text', 'document_identifier', and 'order' columns to d_pair_docid.csv\n",
    "df_d_export = df_og_replaced[['document_text', 'document_identifier', 'order']]\n",
    "df_d_export.to_csv('Documents_original.csv', index=False)"
   ]
  },
  {
   "cell_type": "code",
   "execution_count": 15,
   "id": "f6dcda95-4185-4fe9-82e2-b03e05c58912",
   "metadata": {},
   "outputs": [
    {
     "name": "stdout",
     "output_type": "stream",
     "text": [
      "<class 'pandas.core.frame.DataFrame'>\n",
      "RangeIndex: 1901 entries, 0 to 1900\n",
      "Data columns (total 3 columns):\n",
      " #   Column               Non-Null Count  Dtype \n",
      "---  ------               --------------  ----- \n",
      " 0   document_text        1901 non-null   object\n",
      " 1   document_identifier  1901 non-null   object\n",
      " 2   order                1901 non-null   int64 \n",
      "dtypes: int64(1), object(2)\n",
      "memory usage: 44.7+ KB\n"
     ]
    }
   ],
   "source": [
    "df_d_export.info()"
   ]
  },
  {
   "cell_type": "code",
   "execution_count": 16,
   "id": "5957161d-f0bc-45c3-8bde-51b73de95e8b",
   "metadata": {},
   "outputs": [
    {
     "name": "stdout",
     "output_type": "stream",
     "text": [
      "<class 'pandas.core.frame.DataFrame'>\n",
      "RangeIndex: 1901 entries, 0 to 1900\n",
      "Data columns (total 2 columns):\n",
      " #   Column               Non-Null Count  Dtype \n",
      "---  ------               --------------  ----- \n",
      " 0   question             1901 non-null   object\n",
      " 1   document_identifier  1901 non-null   object\n",
      "dtypes: object(2)\n",
      "memory usage: 29.8+ KB\n"
     ]
    }
   ],
   "source": [
    "df_q_export.info()"
   ]
  },
  {
   "cell_type": "markdown",
   "id": "23d7c521-c29e-4329-b844-f6b475caba4c",
   "metadata": {},
   "source": [
    "## Queston length stats"
   ]
  },
  {
   "cell_type": "code",
   "execution_count": 42,
   "id": "ceaa4806-037f-4d7c-afeb-38afa41e91c6",
   "metadata": {},
   "outputs": [],
   "source": [
    "df = df_q_export.copy()"
   ]
  },
  {
   "cell_type": "code",
   "execution_count": 43,
   "id": "e148400b-02ee-406f-b5ad-e23572b9ab48",
   "metadata": {},
   "outputs": [],
   "source": [
    "# Get the length of each text entry in 'column_1'\n",
    "df['text_length'] = df['question'].str.len()\n",
    "\n",
    "# Calculate average, highest, and lowest length\n",
    "average_length = df['text_length'].mean()\n",
    "max_length = df['text_length'].max()\n",
    "min_length = df['text_length'].min()\n",
    "\n",
    "# Calculate percentage of entries with length greater than 255 characters\n",
    "percentage_over_255 = (df[df['text_length'] > 255].shape[0] / df.shape[0]) * 100\n"
   ]
  },
  {
   "cell_type": "code",
   "execution_count": 44,
   "id": "c3977f4b-1a22-464b-a7f9-8c9fd14f3365",
   "metadata": {},
   "outputs": [
    {
     "name": "stdout",
     "output_type": "stream",
     "text": [
      "Average Length: 597.39\n",
      "Maximum Length: 27039\n",
      "Minimum Length: 0\n",
      "Percentage of Texts over 255 characters: 79.01%\n"
     ]
    }
   ],
   "source": [
    "print(f\"Average Length: {average_length:.2f}\")\n",
    "print(f\"Maximum Length: {max_length}\")\n",
    "print(f\"Minimum Length: {min_length}\")\n",
    "print(f\"Percentage of Texts over 255 characters: {percentage_over_255:.2f}%\")\n"
   ]
  },
  {
   "cell_type": "code",
   "execution_count": 47,
   "id": "3db61831-d338-4a3b-bc1d-5506afb94881",
   "metadata": {},
   "outputs": [
    {
     "data": {
      "image/png": "[encoded data removed]",
      "text/plain": [
       "<Figure size 720x432 with 1 Axes>"
      ]
     },
     "metadata": {
      "needs_background": "light"
     },
     "output_type": "display_data"
    }
   ],
   "source": [
    "import matplotlib.pyplot as plt\n",
    "\n",
    "# Assuming you have already calculated 'average_length' and have a DataFrame 'df'\n",
    "\n",
    "plt.figure(figsize=(10, 6))\n",
    "plt.hist(df['text_length'], bins=25, range=(0, 3000), color='skyblue', edgecolor='black')  # Adjusted bins and range\n",
    "plt.axvline(average_length, color='red', linestyle='dashed', linewidth=1, label=f\"Average Length: {average_length:.2f}\")\n",
    "plt.axvline(255, color='green', linestyle='dotted', linewidth=1, label=\"Length: 255 characters\")\n",
    "plt.title(\"Distribution of Text Lengths in 'question'\")\n",
    "plt.xlabel('Text Length')\n",
    "plt.ylabel('Number of Entries')\n",
    "plt.legend()\n",
    "plt.grid(axis='y')\n",
    "plt.show()\n",
    "\n"
   ]
  },
  {
   "cell_type": "markdown",
   "id": "f6494884-241f-4062-9727-8c25ee02e755",
   "metadata": {},
   "source": [
    "## Answer length stats"
   ]
  },
  {
   "cell_type": "code",
   "execution_count": 36,
   "id": "6536b1ce-6c69-4eed-8e02-b2dff9aa02c3",
   "metadata": {},
   "outputs": [],
   "source": [
    "df = df_d_export.copy()"
   ]
  },
  {
   "cell_type": "code",
   "execution_count": 37,
   "id": "4a9e8448-712d-4bf0-ba86-443a7dc46b02",
   "metadata": {},
   "outputs": [
    {
     "data": {
      "text/html": [
       "<div>\n",
       "<style scoped>\n",
       "    .dataframe tbody tr th:only-of-type {\n",
       "        vertical-align: middle;\n",
       "    }\n",
       "\n",
       "    .dataframe tbody tr th {\n",
       "        vertical-align: top;\n",
       "    }\n",
       "\n",
       "    .dataframe thead th {\n",
       "        text-align: right;\n",
       "    }\n",
       "</style>\n",
       "<table border=\"1\" class=\"dataframe\">\n",
       "  <thead>\n",
       "    <tr style=\"text-align: right;\">\n",
       "      <th></th>\n",
       "      <th>document_text</th>\n",
       "      <th>document_identifier</th>\n",
       "      <th>order</th>\n",
       "    </tr>\n",
       "  </thead>\n",
       "  <tbody>\n",
       "    <tr>\n",
       "      <th>0</th>\n",
       "      <td>With VRTX system in order for ESXi to recogniz...</td>\n",
       "      <td>doc_0</td>\n",
       "      <td>0</td>\n",
       "    </tr>\n",
       "    <tr>\n",
       "      <th>1</th>\n",
       "      <td>iDRAC will apply the firmware correctly to res...</td>\n",
       "      <td>doc_1</td>\n",
       "      <td>1</td>\n",
       "    </tr>\n",
       "    <tr>\n",
       "      <th>2</th>\n",
       "      <td>Hello.Unfortunately, we are not able to open t...</td>\n",
       "      <td>doc_2</td>\n",
       "      <td>2</td>\n",
       "    </tr>\n",
       "    <tr>\n",
       "      <th>3</th>\n",
       "      <td>Thank you for the service tag.You are correct,...</td>\n",
       "      <td>doc_3</td>\n",
       "      <td>3</td>\n",
       "    </tr>\n",
       "    <tr>\n",
       "      <th>4</th>\n",
       "      <td>Hello thisisalloneword, While you have access ...</td>\n",
       "      <td>doc_4</td>\n",
       "      <td>4</td>\n",
       "    </tr>\n",
       "  </tbody>\n",
       "</table>\n",
       "</div>"
      ],
      "text/plain": [
       "                                       document_text document_identifier  \\\n",
       "0  With VRTX system in order for ESXi to recogniz...               doc_0   \n",
       "1  iDRAC will apply the firmware correctly to res...               doc_1   \n",
       "2  Hello.Unfortunately, we are not able to open t...               doc_2   \n",
       "3  Thank you for the service tag.You are correct,...               doc_3   \n",
       "4  Hello thisisalloneword, While you have access ...               doc_4   \n",
       "\n",
       "   order  \n",
       "0      0  \n",
       "1      1  \n",
       "2      2  \n",
       "3      3  \n",
       "4      4  "
      ]
     },
     "execution_count": 37,
     "metadata": {},
     "output_type": "execute_result"
    }
   ],
   "source": [
    "df.head()"
   ]
  },
  {
   "cell_type": "code",
   "execution_count": 38,
   "id": "70bfb66c-0181-4b37-ab44-3171309317b1",
   "metadata": {},
   "outputs": [],
   "source": [
    "# Get the length of each text entry in 'column_1'\n",
    "df['text_length'] = df['document_text'].str.len()\n",
    "\n",
    "# Calculate average, highest, and lowest length\n",
    "average_length = df['text_length'].mean()\n",
    "max_length = df['text_length'].max()\n",
    "min_length = df['text_length'].min()\n",
    "\n",
    "# Calculate percentage of entries with length greater than 255 characters\n",
    "percentage_over_255 = (df[df['text_length'] > 255].shape[0] / df.shape[0]) * 100\n"
   ]
  },
  {
   "cell_type": "code",
   "execution_count": 39,
   "id": "43fca9ef-4fe3-4e61-80c0-5e5f2a3a528c",
   "metadata": {},
   "outputs": [
    {
     "name": "stdout",
     "output_type": "stream",
     "text": [
      "Average Length: 534.39\n",
      "Maximum Length: 11345\n",
      "Minimum Length: 38\n",
      "Percentage of Texts over 255 characters: 79.33%\n"
     ]
    }
   ],
   "source": [
    "print(f\"Average Length: {average_length:.2f}\")\n",
    "print(f\"Maximum Length: {max_length}\")\n",
    "print(f\"Minimum Length: {min_length}\")\n",
    "print(f\"Percentage of Texts over 255 characters: {percentage_over_255:.2f}%\")\n"
   ]
  },
  {
   "cell_type": "code",
   "execution_count": 40,
   "id": "4092d626-9e92-4e72-b11e-763fa804a078",
   "metadata": {},
   "outputs": [
    {
     "data": {
      "image/png": "[encoded data removed]",
      "text/plain": [
       "<Figure size 720x432 with 1 Axes>"
      ]
     },
     "metadata": {
      "needs_background": "light"
     },
     "output_type": "display_data"
    }
   ],
   "source": [
    "import matplotlib.pyplot as plt\n",
    "\n",
    "# Assuming you have already calculated 'average_length' and have a DataFrame 'df'\n",
    "\n",
    "plt.figure(figsize=(10, 6))\n",
    "plt.hist(df['text_length'], bins=50, range=(0, 3000), color='skyblue', edgecolor='black')  # Adjusted bins and range\n",
    "plt.axvline(average_length, color='red', linestyle='dashed', linewidth=1, label=f\"Average Length: {average_length:.2f}\")\n",
    "plt.axvline(255, color='green', linestyle='dotted', linewidth=1, label=\"Length: 255 characters\")\n",
    "plt.title(\"Distribution of Text Lengths in 'column_1'\")\n",
    "plt.xlabel('Text Length')\n",
    "plt.ylabel('Number of Entries')\n",
    "plt.legend()\n",
    "plt.grid(axis='y')\n",
    "plt.show()\n"
   ]
  },
  {
   "cell_type": "code",
   "execution_count": null,
   "id": "892e995d-f666-4189-937c-ad4e81deb128",
   "metadata": {},
   "outputs": [],
   "source": []
  },
  {
   "cell_type": "code",
   "execution_count": null,
   "id": "3b68c684-ef90-4e81-a28d-2fd450de960b",
   "metadata": {},
   "outputs": [],
   "source": []
  },
  {
   "cell_type": "code",
   "execution_count": null,
   "id": "05fc0d2b-028d-4980-b2ad-bd979418c79b",
   "metadata": {},
   "outputs": [],
   "source": []
  }
 ],
 "metadata": {
  "kernelspec": {
   "display_name": "Python 3",
   "language": "python",
   "name": "python3"
  },
  "language_info": {
   "codemirror_mode": {
    "name": "ipython",
    "version": 3
   },
   "file_extension": ".py",
   "mimetype": "text/x-python",
   "name": "python",
   "nbconvert_exporter": "python",
   "pygments_lexer": "ipython3",
   "version": "3.8.5"
  }
 },
 "nbformat": 4,
 "nbformat_minor": 5
}
